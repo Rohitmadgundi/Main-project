{
  "nbformat": 4,
  "nbformat_minor": 0,
  "metadata": {
    "colab": {
      "provenance": [],
      "authorship_tag": "ABX9TyM/T9AbrHmUMbR85JXQkuJ7",
      "include_colab_link": true
    },
    "kernelspec": {
      "name": "python3",
      "display_name": "Python 3"
    },
    "language_info": {
      "name": "python"
    }
  },
  "cells": [
    {
      "cell_type": "markdown",
      "metadata": {
        "id": "view-in-github",
        "colab_type": "text"
      },
      "source": [
        "<a href=\"https://colab.research.google.com/github/Rohitmadgundi/Main-project/blob/master/project.ipynb\" target=\"_parent\"><img src=\"https://colab.research.google.com/assets/colab-badge.svg\" alt=\"Open In Colab\"/></a>"
      ]
    },
    {
      "cell_type": "code",
      "source": [
        "import pandas as pd\n"
      ],
      "metadata": {
        "id": "sS90VqC4ROtT"
      },
      "execution_count": 1,
      "outputs": []
    },
    {
      "cell_type": "code",
      "execution_count": 47,
      "metadata": {
        "id": "JR9_3HHNMG3a"
      },
      "outputs": [],
      "source": [
        "dataset = pd.read_csv('/content/sample_data/data/dataset.csv',delimiter=\",\")\n",
        "severity = pd.read_csv('/content/sample_data/data/Symptom-severity.csv',delimiter=\",\",)\n",
        "symptoms = severity[\"Symptom\"]\n",
        "training = pd.DataFrame()\n",
        "temp = dataset.drop(columns=[\"Disease\"])\n",
        "temp = pd.DataFrame(temp[:].values)\n",
        "for (i, values) in temp.iterrows():\n",
        "   newRow = pd.DataFrame([dict.fromkeys(values.dropna().unique(),\"1\")])\n",
        "   training = training.append(newRow)\n",
        "training = training.reset_index(drop=True)\n",
        "training[\"Prognosis\"] = dataset[\"Disease\"]\n",
        "training.to_csv('/content/sample_data/data/training.csv')\n"
      ]
    },
    {
      "cell_type": "code",
      "source": [
        "from sklearn import preprocessing\n",
        "from sklearn.model_selection import train_test_split\n",
        "\n",
        "training = pd.read_csv('/content/sample_data/data/training.csv',delimiter=\",\",index_col=0).fillna(0)\n",
        "\n",
        "cols= training.columns\n",
        "cols= cols[:-1]\n",
        "x = training[cols]\n",
        "y = training['Prognosis']\n",
        "\n",
        "x_train, x_test, y_train, y_test = train_test_split(x, y, test_size=0.33, random_state=42)\n",
        "print(y_train)\n",
        "print(y_test)\n"
      ],
      "metadata": {
        "colab": {
          "base_uri": "https://localhost:8080/"
        },
        "id": "pJpTHJPRSQoI",
        "outputId": "d82217e8-7039-4250-a436-b6cc7a33b10b"
      },
      "execution_count": 49,
      "outputs": [
        {
          "output_type": "stream",
          "name": "stdout",
          "text": [
            "4308             Chronic cholestasis\n",
            "2269                     Hepatitis C\n",
            "3022                    Heart attack\n",
            "442              Chronic cholestasis\n",
            "4072    Paralysis (brain hemorrhage)\n",
            "                    ...             \n",
            "4426                       Psoriasis\n",
            "466              Peptic ulcer diseae\n",
            "3092                          Dengue\n",
            "3772                Fungal infection\n",
            "860                    Drug Reaction\n",
            "Name: Prognosis, Length: 3296, dtype: object\n",
            "373                    Acne\n",
            "4916                   Acne\n",
            "1550        Hyperthyroidism\n",
            "3081                   AIDS\n",
            "3857    Chronic cholestasis\n",
            "               ...         \n",
            "1257                   GERD\n",
            "3346           Tuberculosis\n",
            "3384            Hepatitis D\n",
            "3290          Hypertension \n",
            "1178              Arthritis\n",
            "Name: Prognosis, Length: 1624, dtype: object\n"
          ]
        }
      ]
    },
    {
      "cell_type": "code",
      "source": [
        "from sklearn.tree import DecisionTreeClassifier\n",
        "from sklearn.model_selection import cross_val_score\n",
        "\n",
        "classifier  = DecisionTreeClassifier()\n",
        "\n",
        "classifierModel = classifier.fit(x_train.values,y_train.values)\n",
        "scores = cross_val_score(classifierModel, x_test, y_test, cv=3)\n",
        "print(\"%0.2f accuracy for decision tree classifier with a standard deviation of %0.2f\" % (scores.mean(), scores.std()))\n"
      ],
      "metadata": {
        "colab": {
          "base_uri": "https://localhost:8080/"
        },
        "id": "3677-4I-SbSh",
        "outputId": "dad0059a-e1ac-478e-9116-db0024364c91"
      },
      "execution_count": 50,
      "outputs": [
        {
          "output_type": "stream",
          "name": "stdout",
          "text": [
            "0.97 accuracy for decision tree classifier with a standard deviation of 0.00\n"
          ]
        }
      ]
    },
    {
      "cell_type": "code",
      "source": [
        "from sklearn import tree\n",
        "features = x_train.columns\n",
        "tree.plot_tree(classifierModel,feature_names=features, class_names=sorted(classifierModel.classes_),max_depth=2)\n"
      ],
      "metadata": {
        "colab": {
          "base_uri": "https://localhost:8080/",
          "height": 474
        },
        "id": "LF6ZRWugSi7o",
        "outputId": "cca3bfcd-163e-40db-ccef-499402f4d3cf"
      },
      "execution_count": 51,
      "outputs": [
        {
          "output_type": "execute_result",
          "data": {
            "text/plain": [
              "[Text(0.6666666666666666, 0.875, ' runny_nose <= 0.5\\ngini = 0.976\\nsamples = 3296\\nvalue = [83, 78, 78, 80, 84, 78, 72, 83, 82, 89, 86, 74\\n85, 70, 82, 87, 77, 77, 78, 73, 80, 82, 70, 83\\n78, 76, 82, 84, 83, 85, 81, 90, 82, 89, 74, 87\\n80, 79, 79, 80, 76]\\nclass = Osteoarthristis'),\n",
              " Text(0.5, 0.625, ' internal_itching <= 0.5\\ngini = 0.975\\nsamples = 3210\\nvalue = [83, 78, 78, 80, 84, 78, 72, 83, 82, 89, 0, 74\\n85, 70, 82, 87, 77, 77, 78, 73, 80, 82, 70, 83\\n78, 76, 82, 84, 83, 85, 81, 90, 82, 89, 74, 87\\n80, 79, 79, 80, 76]\\nclass = Osteoarthristis'),\n",
              " Text(0.3333333333333333, 0.375, ' hip_joint_pain <= 0.5\\ngini = 0.974\\nsamples = 3124\\nvalue = [83, 78, 78, 80, 84, 78, 72, 83, 82, 89, 0, 74\\n85, 70, 82, 87, 77, 77, 78, 73, 80, 82, 70, 83\\n78, 76, 82, 84, 83, 85, 81, 90, 82, 3, 74, 87\\n80, 79, 79, 80, 76]\\nclass = Osteoarthristis'),\n",
              " Text(0.16666666666666666, 0.125, '\\n  (...)  \\n'),\n",
              " Text(0.5, 0.125, '\\n  (...)  \\n'),\n",
              " Text(0.6666666666666666, 0.375, 'gini = 0.0\\nsamples = 86\\nvalue = [0, 0, 0, 0, 0, 0, 0, 0, 0, 0, 0, 0, 0, 0\\n0, 0, 0, 0, 0, 0, 0, 0, 0, 0, 0, 0, 0, 0\\n0, 0, 0, 0, 0, 86, 0, 0, 0, 0, 0, 0, 0]\\nclass = Peptic ulcer diseae'),\n",
              " Text(0.8333333333333334, 0.625, 'gini = 0.0\\nsamples = 86\\nvalue = [0, 0, 0, 0, 0, 0, 0, 0, 0, 0, 86, 0, 0, 0\\n0, 0, 0, 0, 0, 0, 0, 0, 0, 0, 0, 0, 0, 0\\n0, 0, 0, 0, 0, 0, 0, 0, 0, 0, 0, 0, 0]\\nclass = Common Cold')]"
            ]
          },
          "metadata": {},
          "execution_count": 51
        },
        {
          "output_type": "display_data",
          "data": {
            "text/plain": [
              "<Figure size 432x288 with 1 Axes>"
            ],
            "image/png": "[encoded data removed]"
          },
          "metadata": {
            "needs_background": "light"
          }
        }
      ]
    },
    {
      "cell_type": "code",
      "source": [
        "from sklearn.svm import SVC\n",
        "\n",
        "svcModel=SVC()\n",
        "svcModel.fit(x_train.values,y_train.values)\n",
        "print(\"%0.2f accuracy for svm\" % (svcModel.score(x_test.values,y_test.values)))\n"
      ],
      "metadata": {
        "colab": {
          "base_uri": "https://localhost:8080/"
        },
        "id": "juK6AmUuSocM",
        "outputId": "59725d1e-4662-43bf-9d06-b2538ba1440b"
      },
      "execution_count": 52,
      "outputs": [
        {
          "output_type": "stream",
          "name": "stdout",
          "text": [
            "1.00 accuracy for svm\n"
          ]
        }
      ]
    },
    {
      "cell_type": "code",
      "source": [
        "severities = pd.read_csv('/content/sample_data/data/Symptom-severity.csv',delimiter=\",\")\n",
        "descriptions = pd.read_csv('/content/sample_data/data/symptom_Description.csv',delimiter=\",\")\n",
        "precautions = pd.read_csv('/content/sample_data/data/symptom_precaution.csv',delimiter=\",\")\n",
        "diseasesData = pd.read_csv('/content/sample_data/data/dataset.csv',delimiter=\",\")\n",
        "precautions.set_index(\"Disease\",inplace=True)\n",
        "descriptions.set_index(\"Disease\",inplace=True)\n",
        "\n",
        "modelTree = classifierModel.tree_\n",
        "\n",
        "groupedData = training.groupby(training['Prognosis']).max()"
      ],
      "metadata": {
        "id": "kXL1S59mSwjG"
      },
      "execution_count": 53,
      "outputs": []
    },
    {
      "cell_type": "code",
      "source": [
        "from sklearn.tree import _tree\n",
        "le = preprocessing.LabelEncoder()\n",
        "le.fit(y_train)\n",
        "#y = le.transform(y)\n",
        "\n",
        "def walkTree(node, userInput):\n",
        "    names = training.columns[:-1]\n",
        "    featureNames = [\n",
        "        names[i] if i != _tree.TREE_UNDEFINED else \"undefined!\"\n",
        "        for i in modelTree.feature\n",
        "     ]\n",
        "    \n",
        "    if modelTree.feature[node] != _tree.TREE_UNDEFINED:\n",
        "            name = featureNames[node]\n",
        "            threshold = modelTree.threshold[node]\n",
        "            if name.strip() == userInput.strip():\n",
        "                val = 1\n",
        "            else:\n",
        "                val = 0\n",
        "            if  val <= threshold:\n",
        "                return walkTree(modelTree.children_left[node],userInput)\n",
        "            else:\n",
        "                return walkTree(modelTree.children_right[node], userInput)\n",
        "    else:\n",
        "        #print(modelTree.value[node])\n",
        "        node = modelTree.value[node][0].nonzero()\n",
        "        disease = le.inverse_transform(node[0])\n",
        "        possibleDisease = disease[0]\n",
        "        indices  = groupedData.loc[disease].values[0].nonzero()\n",
        "        columnList = groupedData.columns.values[0]\n",
        "        symptomSuggestions = [groupedData.columns.values[i] for i in indices][0]\n",
        "        return (symptomSuggestions , possibleDisease) \n"
      ],
      "metadata": {
        "id": "Xm7SvygfTG_c"
      },
      "execution_count": 54,
      "outputs": []
    },
    {
      "cell_type": "code",
      "source": [
        "(symptomSuggestions, possibleDisease) = walkTree(0,\"itching\")\n",
        "print(symptomSuggestions, possibleDisease)\n"
      ],
      "metadata": {
        "colab": {
          "base_uri": "https://localhost:8080/"
        },
        "id": "RqtQsJN_fLSF",
        "outputId": "7631e311-dfd3-4153-d0c3-cdd4e005b309"
      },
      "execution_count": 55,
      "outputs": [
        {
          "output_type": "stream",
          "name": "stdout",
          "text": [
            "['itching' ' skin_rash' ' stomach_pain' ' burning_micturition'\n",
            " ' spotting_ urination'] Drug Reaction\n"
          ]
        }
      ]
    },
    {
      "cell_type": "code",
      "source": [
        "import numpy as np\n",
        "def makePrediction(experiencedSymptoms):\n",
        "    x = training.iloc[:, :-1]\n",
        "    symptomsDict = {symptom.strip(): index for index, symptom in enumerate(x)}\n",
        "    inputVector = np.zeros(len(symptomsDict))\n",
        "    for s in experiencedSymptoms:\n",
        "      inputVector[[symptomsDict[s]]] = 1\n",
        "    #print(classifierModel.predict([inputVector]))\n",
        "    return classifierModel.predict([inputVector])[0]\n"
      ],
      "metadata": {
        "id": "osuxyJM5TZ40"
      },
      "execution_count": 56,
      "outputs": []
    },
    {
      "cell_type": "code",
      "source": [
        "makePrediction([\"weight_loss\"])\n"
      ],
      "metadata": {
        "colab": {
          "base_uri": "https://localhost:8080/",
          "height": 36
        },
        "id": "NzBt-it8gk_e",
        "outputId": "369599c8-b890-4783-8d9d-1f55e571e5b6"
      },
      "execution_count": 57,
      "outputs": [
        {
          "output_type": "execute_result",
          "data": {
            "text/plain": [
              "'Jaundice'"
            ],
            "application/vnd.google.colaboratory.intrinsic+json": {
              "type": "string"
            }
          },
          "metadata": {},
          "execution_count": 57
        }
      ]
    },
    {
      "cell_type": "code",
      "source": [
        "import re\n",
        "def getRelatedSymptoms(userInput):\n",
        "    result=[]\n",
        "    symptoms = severities['Symptom']\n",
        "    userInput=userInput.replace(' ','_')\n",
        "    pattern = f\"{userInput}\"\n",
        "    regexp = re.compile(pattern)\n",
        "    predictionList=[item.replace('_',' ') for item in symptoms if regexp.search(item)]\n",
        "    if(len(predictionList)>0):\n",
        "        return (True,predictionList)\n",
        "    else:\n",
        "        return (False, [])\n"
      ],
      "metadata": {
        "id": "ZNYYWroBTkad"
      },
      "execution_count": 58,
      "outputs": []
    },
    {
      "cell_type": "code",
      "source": [
        "getRelatedSymptoms(\"e\")\n"
      ],
      "metadata": {
        "colab": {
          "base_uri": "https://localhost:8080/"
        },
        "id": "yZZs_XLyTuTh",
        "outputId": "6be02d22-9807-4414-97fa-9545ca21e951"
      },
      "execution_count": 59,
      "outputs": [
        {
          "output_type": "execute_result",
          "data": {
            "text/plain": [
              "(True,\n",
              " ['nodal skin eruptions',\n",
              "  'continuous sneezing',\n",
              "  'shivering',\n",
              "  'ulcers on tongue',\n",
              "  'muscle wasting',\n",
              "  'fatigue',\n",
              "  'weight gain',\n",
              "  'anxiety',\n",
              "  'cold hands and feets',\n",
              "  'weight loss',\n",
              "  'restlessness',\n",
              "  'lethargy',\n",
              "  'patches in throat',\n",
              "  'irregular sugar level',\n",
              "  'high fever',\n",
              "  'sunken eyes',\n",
              "  'breathlessness',\n",
              "  'sweating',\n",
              "  'dehydration',\n",
              "  'indigestion',\n",
              "  'headache',\n",
              "  'yellowish skin',\n",
              "  'dark urine',\n",
              "  'nausea',\n",
              "  'loss of appetite',\n",
              "  'pain behind the eyes',\n",
              "  'diarrhoea',\n",
              "  'mild fever',\n",
              "  'yellow urine',\n",
              "  'yellowing of eyes',\n",
              "  'acute liver failure',\n",
              "  'fluid overload',\n",
              "  'swelling of stomach',\n",
              "  'swelled lymph nodes',\n",
              "  'malaise',\n",
              "  'blurred and distorted vision',\n",
              "  'phlegm',\n",
              "  'redness of eyes',\n",
              "  'sinus pressure',\n",
              "  'runny nose',\n",
              "  'congestion',\n",
              "  'chest pain',\n",
              "  'weakness in limbs',\n",
              "  'fast heart rate',\n",
              "  'pain during bowel movements',\n",
              "  'pain in anal region',\n",
              "  'neck pain',\n",
              "  'dizziness',\n",
              "  'obesity',\n",
              "  'swollen legs',\n",
              "  'swollen blood vessels',\n",
              "  'puffy face and eyes',\n",
              "  'enlarged thyroid',\n",
              "  'brittle nails',\n",
              "  'swollen extremeties',\n",
              "  'excessive hunger',\n",
              "  'extra marital contacts',\n",
              "  'slurred speech',\n",
              "  'knee pain',\n",
              "  'muscle weakness',\n",
              "  'stiff neck',\n",
              "  'swelling joints',\n",
              "  'movement stiffness',\n",
              "  'spinning movements',\n",
              "  'loss of balance',\n",
              "  'unsteadiness',\n",
              "  'weakness of one body side',\n",
              "  'loss of smell',\n",
              "  'bladder discomfort',\n",
              "  'foul smell ofurine',\n",
              "  'continuous feel of urine',\n",
              "  'passage of gases',\n",
              "  'internal itching',\n",
              "  'depression',\n",
              "  'muscle pain',\n",
              "  'altered sensorium',\n",
              "  'red spots over body',\n",
              "  'belly pain',\n",
              "  'abnormal menstruation',\n",
              "  'dischromic patches',\n",
              "  'watering from eyes',\n",
              "  'increased appetite',\n",
              "  'lack of concentration',\n",
              "  'visual disturbances',\n",
              "  'receiving blood transfusion',\n",
              "  'receiving unsterile injections',\n",
              "  'stomach bleeding',\n",
              "  'distention of abdomen',\n",
              "  'fluid overload',\n",
              "  'prominent veins on calf',\n",
              "  'pus filled pimples',\n",
              "  'blackheads',\n",
              "  'skin peeling',\n",
              "  'silver like dusting',\n",
              "  'small dents in nails',\n",
              "  'blister',\n",
              "  'red sore around nose',\n",
              "  'yellow crust ooze'])"
            ]
          },
          "metadata": {},
          "execution_count": 59
        }
      ]
    },
    {
      "cell_type": "code",
      "source": [
        "def getRelatedSymptomsFromUser():\n",
        "    print(\"\\nEnter the symptom you are experiencing \\t\\t\",end=\"->\") \n",
        "    userInput = input(\"\") \n",
        "    return getRelatedSymptoms(userInput)\n"
      ],
      "metadata": {
        "id": "hTEg9zxDTzwp"
      },
      "execution_count": 60,
      "outputs": []
    },
    {
      "cell_type": "code",
      "source": [
        "def getSymptomsChoiceFromUser(relatedSymptoms):\n",
        "    print(\"searches related to input: \") \n",
        "    for num, it in enumerate(relatedSymptoms): \n",
        "        print(num,\")\",it)\n",
        "    i=0\n",
        "    if num!=0: \n",
        "        print(f\"Select the one you meant (0 - {num}): \", end=\"\") \n",
        "        try:\n",
        "            i = int(input(\"\")) \n",
        "        except:\n",
        "            pass\n",
        "    else: \n",
        "        i=0 \n",
        "    return relatedSymptoms[i]\n"
      ],
      "metadata": {
        "id": "oK7ENCbaT2kk"
      },
      "execution_count": 61,
      "outputs": []
    },
    {
      "cell_type": "code",
      "source": [
        "def getAdditionalSymptomsFromUser(symptomSuggestions):\n",
        "    result = []\n",
        "    print(\"Are you experiencing any \")\n",
        "    for s in symptomSuggestions:\n",
        "        inp=\"\"\n",
        "        print(s,\"? : \",end='')\n",
        "        while True:\n",
        "            inp=input(\"\")\n",
        "            if(inp==\"yes\" or inp==\"no\"):\n",
        "                break\n",
        "            else:\n",
        "                print(\"provide proper answers i.e. (yes/no) : \",end=\"\")\n",
        "            if(inp==\"yes\"):\n",
        "                result.append(s)\n",
        "    return result\n"
      ],
      "metadata": {
        "id": "Axqlcjw1T52q"
      },
      "execution_count": 62,
      "outputs": []
    },
    {
      "cell_type": "code",
      "source": [
        "def printDiseaseRecommendation(disease):\n",
        "    print(\"You may have \", disease)\n",
        "    print(descriptions.loc[disease].values[0])\n",
        "    print(\"Take the following precautions: \")\n",
        "    for p in precautions.loc[disease].values:\n",
        "        print(\"- \" + str(p))\n"
      ],
      "metadata": {
        "id": "vOiIZEvyT8Oj"
      },
      "execution_count": 63,
      "outputs": []
    },
    {
      "cell_type": "code",
      "source": [
        "printDiseaseRecommendation(\"hepatitis A\")\n"
      ],
      "metadata": {
        "colab": {
          "base_uri": "https://localhost:8080/"
        },
        "id": "GwSlPLEyT_mq",
        "outputId": "149ebd6e-f9b0-4c7a-940f-0e1dba06000b"
      },
      "execution_count": 64,
      "outputs": [
        {
          "output_type": "stream",
          "name": "stdout",
          "text": [
            "You may have  hepatitis A\n",
            "Hepatitis A is a highly contagious liver infection caused by the hepatitis A virus. The virus is one of several types of hepatitis viruses that cause inflammation and affect your liver's ability to function.\n",
            "Take the following precautions: \n",
            "- Consult nearest hospital\n",
            "- wash hands through\n",
            "- avoid fatty spicy food\n",
            "- medication\n"
          ]
        }
      ]
    },
    {
      "cell_type": "code",
      "source": [
        "print(\"-----------------------------------HealthCare ChatBot-----------------------------------\")\n",
        "print(\"\\nWhat's your name? \\t\\t\\t\\t\",end=\"->\")\n",
        "userName = input(\"Hello: \")\n",
        "print(\"Hello,\",userName,\"! Nice to see you!\")\n",
        "\n",
        "while True:\n",
        "    currentSymptom = \"\" \n",
        "    (result, relatedSymptoms) = getRelatedSymptomsFromUser()\n",
        "    if result == True: \n",
        "        currentSymptom = getSymptomsChoiceFromUser(relatedSymptoms)\n",
        "        (symptomSuggestions, possibleDisease) = walkTree(0, currentSymptom.replace(\" \",\"_\"))\n",
        "        #print(symptomSuggestions,possibleDisease )\n",
        "        additionalSymptoms = getAdditionalSymptomsFromUser(symptomSuggestions)\n",
        "        #print(additionalSymptoms)\n",
        "        otherPossibleDisease = makePrediction(additionalSymptoms)\n",
        "        printDiseaseRecommendation(possibleDisease)\n",
        "        if not possibleDisease == otherPossibleDisease:\n",
        "            print(\"You may also have: \\n\")\n",
        "            printDiseaseRecommendation(otherPossibleDisease)\n",
        "            print(\"\\n\")\n",
        "    print(\"Bye!\")\n",
        "    break\n"
      ],
      "metadata": {
        "colab": {
          "base_uri": "https://localhost:8080/"
        },
        "id": "OPigAmcgUL41",
        "outputId": "e71d9983-322d-4fd2-f24c-7c5ee29450cf"
      },
      "execution_count": 66,
      "outputs": [
        {
          "output_type": "stream",
          "name": "stdout",
          "text": [
            "-----------------------------------HealthCare ChatBot-----------------------------------\n",
            "\n",
            "What's your name? \t\t\t\t->Hello: mahesh\n",
            "Hello, mahesh ! Nice to see you!\n",
            "\n",
            "Enter the symptom you are experiencing \t\t->itching\n",
            "searches related to input: \n",
            "0 ) itching\n",
            "1 ) internal itching\n",
            "Select the one you meant (0 - 1): 1\n",
            "Are you experiencing any \n",
            " vomiting ? : no\n",
            " loss_of_appetite ? : no\n",
            " abdominal_pain ? : no\n",
            " passage_of_gases ? : yes\n",
            " internal_itching ? : yes\n",
            " indigestion ? : no\n",
            "You may have  Peptic ulcer diseae\n",
            "Peptic ulcer disease (PUD) is a break in the inner lining of the stomach, the first part of the small intestine, or sometimes the lower esophagus. An ulcer in the stomach is called a gastric ulcer, while one in the first part of the intestines is a duodenal ulcer.\n",
            "Take the following precautions: \n",
            "- avoid fatty spicy food\n",
            "- consume probiotic food\n",
            "- eliminate milk\n",
            "- limit alcohol\n",
            "You may also have: \n",
            "\n",
            "You may have  Alcoholic hepatitis\n",
            "Alcoholic hepatitis is a diseased, inflammatory condition of the liver caused by heavy alcohol consumption over an extended period of time. It's also aggravated by binge drinking and ongoing alcohol use. If you develop this condition, you must stop drinking alcohol\n",
            "Take the following precautions: \n",
            "- stop alcohol consumption\n",
            "- consult doctor\n",
            "- medication\n",
            "- follow up\n",
            "\n",
            "\n",
            "Bye!\n"
          ]
        }
      ]
    }
  ]
}